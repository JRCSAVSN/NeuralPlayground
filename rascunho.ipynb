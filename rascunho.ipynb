{
 "cells": [
  {
   "cell_type": "code",
   "execution_count": 22,
   "metadata": {},
   "outputs": [],
   "source": [
    "import torch\n",
    "from torch import nn\n",
    "import numpy as np\n",
    "import matplotlib.pyplot as plt\n",
    "from torchvision.transforms.functional import center_crop, resize, pad\n"
   ]
  },
  {
   "cell_type": "code",
   "execution_count": 23,
   "metadata": {},
   "outputs": [],
   "source": [
    "class reslayer(nn.Module):\n",
    "    def __init__(self, n_channels):\n",
    "        super(reslayer, self).__init__()\n",
    "        self.conv1 = nn.Conv2d(n_channels, n_channels, 3, padding=1)\n",
    "        self.conv2 = nn.Conv2d(n_channels, n_channels, 3, padding=1)\n",
    "        self.relu = nn.ReLU()\n",
    "\n",
    "    def forward(self, x):\n",
    "        x = self.relu(self.conv1(x))\n",
    "        x = self.relu(self.conv2(x))\n",
    "        return x"
   ]
  },
  {
   "cell_type": "code",
   "execution_count": 24,
   "metadata": {},
   "outputs": [],
   "source": [
    "class Snet(nn.Module):\n",
    "    def __init__(self, in_channels, mid_channels, n_layers):\n",
    "        super(Snet, self).__init__()\n",
    "        in_layer = nn.Sequential(\n",
    "            nn.Conv2d(in_channels, mid_channels, 5, padding=2),\n",
    "            nn.ReLU()\n",
    "        )\n",
    "        out_layer = nn.Sequential(\n",
    "            nn.Conv2d(mid_channels, in_channels, 5, padding=2),\n",
    "            nn.ReLU()\n",
    "        )\n",
    "        self.net = nn.Sequential(in_layer, *[reslayer(mid_channels) for _ in range(n_layers)], out_layer)\n",
    "\n",
    "    def forward(self, x):\n",
    "        return self.net(x)\n",
    "    \n",
    "class Tnet(nn.Module):\n",
    "    def __init__(self, in_channels, mid_channels, n_layers):\n",
    "        super(Tnet, self).__init__()\n",
    "        in_layer = nn.Sequential(\n",
    "            nn.Conv2d(in_channels, mid_channels, 5, padding=2),\n",
    "            nn.ReLU()\n",
    "        )\n",
    "        out_layer = nn.Sequential(\n",
    "            nn.Conv2d(mid_channels, in_channels, 5, padding=2),\n",
    "            nn.Tanh()\n",
    "        )\n",
    "        self.net = nn.Sequential(in_layer, *[reslayer(mid_channels) for _ in range(n_layers)], out_layer)\n",
    "\n",
    "    def forward(self, x):\n",
    "        return self.net(x)"
   ]
  },
  {
   "cell_type": "code",
   "execution_count": 34,
   "metadata": {},
   "outputs": [],
   "source": [
    "class CouplingLayer(nn.Module):\n",
    "    def __init__(self, mask_type='checkerboard', pattern=0, input_shape=(1, 3, 256, 256), mid_channels=64, n_layers=8):\n",
    "        super(CouplingLayer, self).__init__()\n",
    "        self.mask_type = mask_type\n",
    "        self.input_shape = input_shape\n",
    "        self.pattern = pattern\n",
    "        self.create_mask()\n",
    "        self.snet = Snet(in_channels=input_shape[1], mid_channels=mid_channels, n_layers=n_layers)\n",
    "        self.tnet = Tnet(in_channels=input_shape[1], mid_channels=mid_channels, n_layers=n_layers)\n",
    "\n",
    "    def create_mask(self):\n",
    "        self.mask = torch.zeros(self.input_shape)\n",
    "        if self.mask_type == 'checkerboard':\n",
    "            if self.pattern == 0:\n",
    "                self.mask[:, :, ::2, ::2] = 1.0\n",
    "                self.mask[:, :, 1::2, 1::2] = 1.0\n",
    "            else:\n",
    "                self.mask[:, :, 1::2, ::2] = 1.0\n",
    "                self.mask[:, :, ::2, 1::2] = 1.0\n",
    "        elif self.mask_type == 'channel':\n",
    "            if self.pattern == 0:\n",
    "                self.mask[:, :self.input_shape[1]//2, :, :] = 1.0\n",
    "            else:\n",
    "                self.mask[:, self.input_shape[1]//2:, :, :] = 1.0\n",
    "        else:\n",
    "            raise ValueError('Invalid mask type')\n",
    "\n",
    "    def forward(self, data):\n",
    "        _, _, reverse = data\n",
    "        if reverse == False:\n",
    "            x, logdet, _ = data\n",
    "            z = self.mask * x + (1 - self.mask) * (x * torch.exp(self.snet(self.mask * x)) + self.tnet(self.mask * x))\n",
    "            logdet = torch.exp(self.snet(self.mask * x)).sum(dim=1).sum(dim=1).sum(dim=1)\n",
    "            return z, logdet\n",
    "        else:\n",
    "            z, logdet, _ = data\n",
    "            x = self.mask * z + (1 - self.mask) * (z - self.tnet(self.mask * z)) * torch.exp(-self.snet(self.mask * z))\n",
    "            logdet = -torch.exp(self.snet(self.mask * z)).sum(dim=1).sum(dim=1).sum(dim=1)\n",
    "            return x, logdet"
   ]
  },
  {
   "cell_type": "code",
   "execution_count": 26,
   "metadata": {},
   "outputs": [],
   "source": [
    "class realNVP(nn.Module):\n",
    "    def __init__(self, n_coupling_layers=3, input_shape=(1, 3, 256, 256), mid_channels=64, n_res_layers=8):\n",
    "        super(realNVP, self).__init__()\n",
    "        self.checker_in = nn.Sequential(*[CouplingLayer(input_shape=input_shape, mid_channels=mid_channels, n_layers=n_res_layers, mask_type='checkerboard', pattern=i%2==0) for i in range(n_coupling_layers)])\n",
    "        self.channel_in = nn.Sequential(*[CouplingLayer(input_shape=(input_shape[0], input_shape[1]*4, input_shape[2]//2, input_shape[3]//2), mid_channels=mid_channels, n_layers=n_res_layers, mask_type='channel', pattern=i%2==1) for i in range(n_coupling_layers)])\n",
    "        self.checker_out = nn.Sequential(*[CouplingLayer(input_shape=input_shape, mid_channels=mid_channels, n_layers=n_res_layers, mask_type='checkerboard', pattern=i%2==1) for i in range(n_coupling_layers)])\n",
    "\n",
    "    def forward(self, x):\n",
    "        logdet = torch.zeros(x.shape[0])\n",
    "        x, logdet = self.checker_in((x, logdet, False))\n",
    "        x, logdet = self.channel_in((x.reshape(x.shape[0], x.shape[1]*4, x.shape[2]//2, x.shape[3]//2), logdet, False))\n",
    "        x, logdet = self.checker_out((x.reshape(x.shape[0], x.shape[1]//4, x.shape[2]*2, x.shape[3]*2), logdet, False))\n",
    "        return x, logdet\n",
    "    \n",
    "    def reverse(self, z):\n",
    "        logdet = torch.zeros(z.shape[0])\n",
    "        z, logdet = self.checker_in((z, logdet, True))\n",
    "        z, logdet = self.channel_in"
   ]
  },
  {
   "cell_type": "code",
   "execution_count": 36,
   "metadata": {},
   "outputs": [
    {
     "name": "stdout",
     "output_type": "stream",
     "text": [
      "torch.Size([3, 3, 256, 256]) tensor([197907.9375, 197907.9375, 197907.9375])\n"
     ]
    }
   ],
   "source": [
    "# m = CouplingLayer(mask_type='checkerboard', pattern=0, input_shape=(1, 3, 256, 256))\n",
    "m = CouplingLayer()\n",
    "with torch.no_grad():\n",
    "    x = torch.randn((3, 3, 256, 256))\n",
    "    z, logdet = m((x, torch.zeros_like(x), False))\n",
    "\n",
    "    x_hat = m((z, torch.zeros_like(x), True))\n",
    "    print(z.shape, logdet)"
   ]
  }
 ],
 "metadata": {
  "kernelspec": {
   "display_name": "NeuralPlayground",
   "language": "python",
   "name": "python3"
  },
  "language_info": {
   "codemirror_mode": {
    "name": "ipython",
    "version": 3
   },
   "file_extension": ".py",
   "mimetype": "text/x-python",
   "name": "python",
   "nbconvert_exporter": "python",
   "pygments_lexer": "ipython3",
   "version": "3.8.18"
  }
 },
 "nbformat": 4,
 "nbformat_minor": 2
}
